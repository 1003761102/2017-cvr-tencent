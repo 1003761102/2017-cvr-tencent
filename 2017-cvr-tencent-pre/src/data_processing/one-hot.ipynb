{
 "cells": [
  {
   "cell_type": "code",
   "execution_count": 1,
   "metadata": {
    "collapsed": true
   },
   "outputs": [],
   "source": [
    "import pandas as pd\n",
    "from sklearn.preprocessing import OneHotEncoder\n",
    "from sklearn.model_selection import train_test_split\n",
    "from sklearn.feature_extraction.text import TfidfVectorizer\n",
    "from scipy.sparse import hstack\n",
    "import numpy as np"
   ]
  },
  {
   "cell_type": "code",
   "execution_count": 2,
   "metadata": {},
   "outputs": [],
   "source": [
    "train = pd.read_csv('../../data_ori/train.csv')\n",
    "test = pd.read_csv('../../data_ori/test.csv')"
   ]
  },
  {
   "cell_type": "code",
   "execution_count": 3,
   "metadata": {
    "collapsed": true
   },
   "outputs": [],
   "source": [
    "#时间离散化\n",
    "train['clickTime_day'] = train['clickTime'].map(lambda x: x / 10000)\n",
    "train['clickTime_hour'] = train['clickTime'].map(lambda x: x / 100 % 100)\n",
    "train['clickTime_minute'] = train['clickTime'].map(lambda x: x % 100)"
   ]
  },
  {
   "cell_type": "code",
   "execution_count": 4,
   "metadata": {},
   "outputs": [
    {
     "data": {
      "text/plain": [
       "clickTime_day  label\n",
       "17.0000        0        118\n",
       "17.0001        0        179\n",
       "               1          5\n",
       "17.0002        0        164\n",
       "               1          5\n",
       "17.0003        0        182\n",
       "               1          4\n",
       "17.0004        0        165\n",
       "               1          5\n",
       "17.0005        0        166\n",
       "               1          6\n",
       "17.0006        0        145\n",
       "               1         10\n",
       "17.0007        0        157\n",
       "               1          6\n",
       "17.0008        0        153\n",
       "               1          2\n",
       "17.0009        0        142\n",
       "               1          4\n",
       "17.0010        0        164\n",
       "               1          4\n",
       "17.0011        0        134\n",
       "               1          4\n",
       "17.0012        0        136\n",
       "               1          4\n",
       "17.0013        0        154\n",
       "               1          8\n",
       "17.0014        0        141\n",
       "               1          2\n",
       "17.0015        0        149\n",
       "                       ... \n",
       "30.2345        0        213\n",
       "               1          4\n",
       "30.2346        0        232\n",
       "               1          5\n",
       "30.2347        0        249\n",
       "               1          4\n",
       "30.2348        0        248\n",
       "               1          5\n",
       "30.2349        0        219\n",
       "               1          5\n",
       "30.2350        0        202\n",
       "               1          5\n",
       "30.2351        0        250\n",
       "               1          3\n",
       "30.2352        0        205\n",
       "               1          7\n",
       "30.2353        0        226\n",
       "               1          4\n",
       "30.2354        0        200\n",
       "               1          3\n",
       "30.2355        0        204\n",
       "               1          3\n",
       "30.2356        0        248\n",
       "               1          3\n",
       "30.2357        0        202\n",
       "               1          1\n",
       "30.2358        0        184\n",
       "               1          3\n",
       "30.2359        0        208\n",
       "               1          1\n",
       "Name: label, dtype: int64"
      ]
     },
     "execution_count": 4,
     "metadata": {},
     "output_type": "execute_result"
    }
   ],
   "source": [
    "train.groupby(['clickTime_day'])['label'].value_counts()"
   ]
  },
  {
   "cell_type": "code",
   "execution_count": 5,
   "metadata": {},
   "outputs": [
    {
     "data": {
      "text/html": [
       "<div>\n",
       "<table border=\"1\" class=\"dataframe\">\n",
       "  <thead>\n",
       "    <tr style=\"text-align: right;\">\n",
       "      <th></th>\n",
       "      <th>label</th>\n",
       "      <th>clickTime</th>\n",
       "      <th>conversionTime</th>\n",
       "      <th>creativeID</th>\n",
       "      <th>userID</th>\n",
       "      <th>positionID</th>\n",
       "      <th>connectionType</th>\n",
       "      <th>telecomsOperator</th>\n",
       "      <th>clickTime_day</th>\n",
       "      <th>clickTime_hour</th>\n",
       "      <th>clickTime_minute</th>\n",
       "    </tr>\n",
       "  </thead>\n",
       "  <tbody>\n",
       "    <tr>\n",
       "      <th>0</th>\n",
       "      <td>0</td>\n",
       "      <td>170000</td>\n",
       "      <td>NaN</td>\n",
       "      <td>3089</td>\n",
       "      <td>2798058</td>\n",
       "      <td>293</td>\n",
       "      <td>1</td>\n",
       "      <td>1</td>\n",
       "      <td>17.0</td>\n",
       "      <td>0.0</td>\n",
       "      <td>0</td>\n",
       "    </tr>\n",
       "    <tr>\n",
       "      <th>1</th>\n",
       "      <td>0</td>\n",
       "      <td>170000</td>\n",
       "      <td>NaN</td>\n",
       "      <td>1259</td>\n",
       "      <td>463234</td>\n",
       "      <td>6161</td>\n",
       "      <td>1</td>\n",
       "      <td>2</td>\n",
       "      <td>17.0</td>\n",
       "      <td>0.0</td>\n",
       "      <td>0</td>\n",
       "    </tr>\n",
       "    <tr>\n",
       "      <th>2</th>\n",
       "      <td>0</td>\n",
       "      <td>170000</td>\n",
       "      <td>NaN</td>\n",
       "      <td>4465</td>\n",
       "      <td>1857485</td>\n",
       "      <td>7434</td>\n",
       "      <td>4</td>\n",
       "      <td>1</td>\n",
       "      <td>17.0</td>\n",
       "      <td>0.0</td>\n",
       "      <td>0</td>\n",
       "    </tr>\n",
       "    <tr>\n",
       "      <th>3</th>\n",
       "      <td>0</td>\n",
       "      <td>170000</td>\n",
       "      <td>NaN</td>\n",
       "      <td>1004</td>\n",
       "      <td>2038823</td>\n",
       "      <td>977</td>\n",
       "      <td>1</td>\n",
       "      <td>1</td>\n",
       "      <td>17.0</td>\n",
       "      <td>0.0</td>\n",
       "      <td>0</td>\n",
       "    </tr>\n",
       "    <tr>\n",
       "      <th>4</th>\n",
       "      <td>0</td>\n",
       "      <td>170000</td>\n",
       "      <td>NaN</td>\n",
       "      <td>1887</td>\n",
       "      <td>2015141</td>\n",
       "      <td>3688</td>\n",
       "      <td>1</td>\n",
       "      <td>1</td>\n",
       "      <td>17.0</td>\n",
       "      <td>0.0</td>\n",
       "      <td>0</td>\n",
       "    </tr>\n",
       "  </tbody>\n",
       "</table>\n",
       "</div>"
      ],
      "text/plain": [
       "   label  clickTime  conversionTime  creativeID   userID  positionID  \\\n",
       "0      0     170000             NaN        3089  2798058         293   \n",
       "1      0     170000             NaN        1259   463234        6161   \n",
       "2      0     170000             NaN        4465  1857485        7434   \n",
       "3      0     170000             NaN        1004  2038823         977   \n",
       "4      0     170000             NaN        1887  2015141        3688   \n",
       "\n",
       "   connectionType  telecomsOperator  clickTime_day  clickTime_hour  \\\n",
       "0               1                 1           17.0             0.0   \n",
       "1               1                 2           17.0             0.0   \n",
       "2               4                 1           17.0             0.0   \n",
       "3               1                 1           17.0             0.0   \n",
       "4               1                 1           17.0             0.0   \n",
       "\n",
       "   clickTime_minute  \n",
       "0                 0  \n",
       "1                 0  \n",
       "2                 0  \n",
       "3                 0  \n",
       "4                 0  "
      ]
     },
     "execution_count": 5,
     "metadata": {},
     "output_type": "execute_result"
    }
   ],
   "source": [
    "train.head()"
   ]
  },
  {
   "cell_type": "code",
   "execution_count": 6,
   "metadata": {},
   "outputs": [],
   "source": [
    "test['clickTime_day'] = test['clickTime'].map(lambda x: x / 10000)\n",
    "test['clickTime_hour'] = test['clickTime'].map(lambda x: x / 100 % 100)\n",
    "test['clickTime_minute'] = test['clickTime'].map(lambda x: x % 100)"
   ]
  },
  {
   "cell_type": "code",
   "execution_count": 7,
   "metadata": {
    "collapsed": true
   },
   "outputs": [],
   "source": [
    "#position直接加上去\n",
    "position = pd.read_csv('../../data_ori/position.csv')\n",
    "train = pd.merge(train, position, on='positionID', how='left')\n",
    "test = pd.merge(test, position, on='positionID', how='left')"
   ]
  },
  {
   "cell_type": "code",
   "execution_count": 8,
   "metadata": {
    "collapsed": true
   },
   "outputs": [],
   "source": [
    "feature_name = [a for a in train.columns if a not in ['label', 'conversionTime']]\n",
    "categorical_feature = ['creativeID', 'userID', 'positionID', 'connectionType', 'telecomsOperator']"
   ]
  },
  {
   "cell_type": "code",
   "execution_count": null,
   "metadata": {},
   "outputs": [],
   "source": [
    "train_label = train['label']\n",
    "train = train[feature_name]\n",
    "#test_label = test['label']\n",
    "test = test[feature_name]"
   ]
  },
  {
   "cell_type": "code",
   "execution_count": null,
   "metadata": {},
   "outputs": [],
   "source": [
    "#添加appID特征（tfidf）\n",
    "user_installedapps = pd.read_csv('../../data_ori/user_installedapps.csv')\n",
    "user_installedapps_count = user_installedapps.groupby('userID').agg(len).reset_index()  #计数特征\n",
    "user_installedapps_count.columns = ['userID', 'user_appID_count']\n",
    "user_installedapps = user_installedapps.groupby('userID').agg(\n",
    "    lambda x: ' '.join(['app' + str(s) for s in x.values])).reset_index()\n",
    "\n",
    "user_id_all = pd.concat([train.userID, test.userID], axis=0)\n",
    "user_id_all = pd.DataFrame(user_id_all, columns=['userID'])\n",
    "\n",
    "#不同用户的先提取出来\n",
    "user_installedapps = pd.merge(user_id_all.drop_duplicates(), user_installedapps, on='userID', how='left')\n",
    "user_installedapps = user_installedapps.fillna('Missing')\n",
    "\n",
    "tfv = TfidfVectorizer()\n",
    "tfv.fit(user_installedapps.appID)\n",
    "\n",
    "#按照顺序转化为tfidf特征\n",
    "user_installedapps = pd.merge(user_id_all, user_installedapps, on='userID', how='left')\n",
    "user_installedapps = user_installedapps.fillna('Missing')\n",
    "user_installedapps_tfv = tfv.transform(user_installedapps.appID)"
   ]
  },
  {
   "cell_type": "code",
   "execution_count": null,
   "metadata": {},
   "outputs": [],
   "source": [
    "user = pd.read_csv('../../data_ori/user.csv')\n",
    "user['hometown_city'] = user['hometown'] % 100\n",
    "user['hometown_province'] = (user['hometown'] / 100).astype('int')\n",
    "user['residence_city'] = user['residence'] % 100\n",
    "user['residence_province'] = (user['residence'] / 100).astype('int')\n",
    "user.head()"
   ]
  },
  {
   "cell_type": "code",
   "execution_count": null,
   "metadata": {},
   "outputs": [],
   "source": [
    "ad = pd.read_csv('../../data_ori/ad.csv')\n",
    "ad.head()"
   ]
  },
  {
   "cell_type": "code",
   "execution_count": null,
   "metadata": {
    "collapsed": true
   },
   "outputs": [],
   "source": [
    "#合并特征\n",
    "train = pd.merge(train, user_installedapps_count, on='userID', how='left')\n",
    "train = pd.merge(train, user, on='userID', how='left')\n",
    "train = pd.merge(train, ad, on='creativeID', how='left')\n",
    "\n",
    "test = pd.merge(test, user_installedapps_count, on='userID', how='left')\n",
    "test = pd.merge(test, user, on='userID', how='left')\n",
    "test = pd.merge(test, ad, on='creativeID', how='left')"
   ]
  },
  {
   "cell_type": "code",
   "execution_count": null,
   "metadata": {},
   "outputs": [],
   "source": [
    "train.head()"
   ]
  },
  {
   "cell_type": "code",
   "execution_count": null,
   "metadata": {},
   "outputs": [],
   "source": [
    "train.dtypes"
   ]
  },
  {
   "cell_type": "code",
   "execution_count": null,
   "metadata": {
    "collapsed": true
   },
   "outputs": [],
   "source": [
    "del train['user_appID_count'], test['user_appID_count']"
   ]
  },
  {
   "cell_type": "code",
   "execution_count": null,
   "metadata": {},
   "outputs": [],
   "source": [
    "oneEnc = OneHotEncoder()\n",
    "data_one = pd.concat([train, test])\n",
    "data_one = oneEnc.fit_transform(data_one)\n",
    "train_one = data_one[:train.shape[0]]\n",
    "test_one = data_one[train.shape[0]:]"
   ]
  },
  {
   "cell_type": "code",
   "execution_count": null,
   "metadata": {},
   "outputs": [],
   "source": [
    "train = hstack([train_one, user_installedapps_tfv[:train.shape[0]]])\n",
    "test = hstack([test_one, user_installedapps_tfv[train.shape[0]:]])"
   ]
  }
 ],
 "metadata": {
  "kernelspec": {
   "display_name": "Python 3",
   "language": "python",
   "name": "python3"
  },
  "language_info": {
   "codemirror_mode": {
    "name": "ipython",
    "version": 3
   },
   "file_extension": ".py",
   "mimetype": "text/x-python",
   "name": "python",
   "nbconvert_exporter": "python",
   "pygments_lexer": "ipython3",
   "version": "3.5.2"
  }
 },
 "nbformat": 4,
 "nbformat_minor": 0
}
